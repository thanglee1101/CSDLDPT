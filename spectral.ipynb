{
 "cells": [
  {
   "cell_type": "code",
   "execution_count": 1,
   "metadata": {},
   "outputs": [],
   "source": [
    "import librosa\n",
    "import numpy as np\n",
    "y, sr = librosa.load(f'.\\dataset\\\\việt\\\\việt 9.WAV',sr=16000)"
   ]
  },
  {
   "cell_type": "code",
   "execution_count": 2,
   "metadata": {},
   "outputs": [],
   "source": [
    "S = np.abs(librosa.stft(y))"
   ]
  },
  {
   "cell_type": "code",
   "execution_count": 3,
   "metadata": {},
   "outputs": [
    {
     "data": {
      "text/plain": [
       "array([[1027.14191628,  782.54828526,  829.62048582,  858.39834723,\n",
       "         891.43229145,  890.74393008,  799.68368401,  919.99898457,\n",
       "         932.92267494,  896.67237562,  998.34745618, 1171.71148106,\n",
       "        1301.41788472, 1199.47784965, 1401.60326054, 1554.80675127,\n",
       "        1649.56220938, 1698.03822608, 1755.19612029, 1803.58648562,\n",
       "        1783.95739506, 1470.39602191, 1326.66251441, 1325.15260667,\n",
       "         675.64843892,  667.01729906,  918.67349517,  990.40613558,\n",
       "        1289.92187102, 1416.95299406, 1459.04837914, 1314.30480633]])"
      ]
     },
     "execution_count": 3,
     "metadata": {},
     "output_type": "execute_result"
    }
   ],
   "source": [
    "centroids = librosa.feature.spectral_centroid(S=S, sr=sr)\n",
    "centroids"
   ]
  }
 ],
 "metadata": {
  "kernelspec": {
   "display_name": "Python 3",
   "language": "python",
   "name": "python3"
  },
  "language_info": {
   "codemirror_mode": {
    "name": "ipython",
    "version": 3
   },
   "file_extension": ".py",
   "mimetype": "text/x-python",
   "name": "python",
   "nbconvert_exporter": "python",
   "pygments_lexer": "ipython3",
   "version": "3.10.0"
  },
  "orig_nbformat": 4
 },
 "nbformat": 4,
 "nbformat_minor": 2
}
